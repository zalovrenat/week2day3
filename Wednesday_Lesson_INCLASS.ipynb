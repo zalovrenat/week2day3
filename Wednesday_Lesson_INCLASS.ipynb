{
 "cells": [
  {
   "cell_type": "markdown",
   "metadata": {},
   "source": [
    "# Data Collections 2 (Dictionaries, Sets) and Importing Modules"
   ]
  },
  {
   "cell_type": "markdown",
   "metadata": {},
   "source": [
    "## Tasks Today:\n",
    "\n",
    "1) Dictionary <br>\n",
    " &nbsp;&nbsp;&nbsp;&nbsp; a) Declaring (key, value) <br>\n",
    " &nbsp;&nbsp;&nbsp;&nbsp; b) Accessing Values <br>\n",
    " &nbsp;&nbsp;&nbsp;&nbsp; ------ Exercise #1 - Print the eye color of each person in a double nested dict <br>\n",
    " &nbsp;&nbsp;&nbsp;&nbsp; c) Adding New Pairs <br>\n",
    " &nbsp;&nbsp;&nbsp;&nbsp; d) Modifying Values <br>\n",
    " &nbsp;&nbsp;&nbsp;&nbsp; e) Removing Key, Value Pairs <br>\n",
    " &nbsp;&nbsp;&nbsp;&nbsp; f) Looping a Dictionary <br>\n",
    " &nbsp;&nbsp;&nbsp;&nbsp; g) Looping Only Keys <br>\n",
    " &nbsp;&nbsp;&nbsp;&nbsp; h) Looping Only Values <br>\n",
    " &nbsp;&nbsp;&nbsp;&nbsp; ------ Exercise #2 - Create a Function that Prints All Key Value Pairs within a print .format()  <br>\n",
    " &nbsp;&nbsp;&nbsp;&nbsp; i) sorted() <br>\n",
    " &nbsp;&nbsp;&nbsp;&nbsp; j) Lists with Dictionaries <br>\n",
    " &nbsp;&nbsp;&nbsp;&nbsp; k) Dictionaries with Lists <br>\n",
    " &nbsp;&nbsp;&nbsp;&nbsp; l) Dictionaries with Dictionaries <br>\n",
    " &nbsp;&nbsp;&nbsp;&nbsp; ------ Exercise #3 - Write a Function that asks someone's name and address, and then stores that into a dictionary, which prints all names and addresses after they're done putting information in...  <br>\n",
    "2) Dictionaries vs. Lists (over time)<br>\n",
    "3) Set <br>\n",
    " &nbsp;&nbsp;&nbsp;&nbsp; a) Declaring <br>\n",
    " &nbsp;&nbsp;&nbsp;&nbsp; b) .add() <br>\n",
    " &nbsp;&nbsp;&nbsp;&nbsp; c) .remove() <br>\n",
    " &nbsp;&nbsp;&nbsp;&nbsp; d) .union() <br>\n",
    " &nbsp;&nbsp;&nbsp;&nbsp; e) .intersection() <br>\n",
    " &nbsp;&nbsp;&nbsp;&nbsp; f) .difference() <br>\n",
    " &nbsp;&nbsp;&nbsp;&nbsp; g) Frozen Set <br>\n",
    "4) Modules <br>\n",
    " &nbsp;&nbsp;&nbsp;&nbsp; a) Importing Entire Modules <br>\n",
    " &nbsp;&nbsp;&nbsp;&nbsp; b) Importing Methods Only <br>\n",
    " &nbsp;&nbsp;&nbsp;&nbsp; c) Using the 'as' Keyword <br>\n",
    " &nbsp;&nbsp;&nbsp;&nbsp; d) Creating a Module <br>\n",
    "5) Exercises <br>\n",
    " &nbsp;&nbsp;&nbsp;&nbsp; a) Build a Shopping Cart <br>\n",
    " &nbsp;&nbsp;&nbsp;&nbsp; b) Create Your Own Module <br>"
   ]
  },
  {
   "cell_type": "markdown",
   "metadata": {},
   "source": [
    "## Dictionary <br>\n",
    "<p>A collection of data with 'key:value' pairs. Dictionaries are ordered as of Python 3.6</p>"
   ]
  },
  {
   "cell_type": "markdown",
   "metadata": {},
   "source": [
    "##### Declaring (key, value)"
   ]
  },
  {
   "cell_type": "code",
   "execution_count": 5,
   "metadata": {},
   "outputs": [
    {
     "name": "stdout",
     "output_type": "stream",
     "text": [
      "{}\n",
      "<class 'dict'>\n",
      "{'name': 'Shoha', 'age': '9000', 'hobbies': ['sailing', 'biking'], 'wallet': {'Visa': 100, 'Mastercard': -2000}, 0: 'test', 1: 'another one'}\n"
     ]
    }
   ],
   "source": [
    "d1 = {}\n",
    "d2 = dict()\n",
    "print(d2)\n",
    "print(type(d2))\n",
    "\n",
    "# OR\n",
    "\n",
    "# start off with initial values\n",
    "\n",
    "d3 = {\n",
    "    \"name\":\"Shoha\",\n",
    "    \"age\":\"9000\",\n",
    "    \"hobbies\":['sailing','biking'],\n",
    "    \"wallet\": {\n",
    "        \"Visa\": 100,\n",
    "        \"Mastercard\": -2000\n",
    "    },\n",
    "    0: \"test\",\n",
    "    1: \"another one\"\n",
    "}\n",
    "\n",
    "print(d3)"
   ]
  },
  {
   "cell_type": "markdown",
   "metadata": {},
   "source": [
    "##### Accessing Values"
   ]
  },
  {
   "cell_type": "code",
   "execution_count": 15,
   "metadata": {},
   "outputs": [
    {
     "name": "stdout",
     "output_type": "stream",
     "text": [
      "None\n",
      "This Information Does Not Exist In The Dictionary\n"
     ]
    }
   ],
   "source": [
    "# Trying to grab information that doesn't exist will error out\n",
    "d3['name']\n",
    "#d3['nonexistent']\n",
    "\n",
    "d3.get('name')\n",
    "saved = d3.get('nonexistent')\n",
    "print(saved)\n",
    "\n",
    "saved2 = d3.get('nonexistent',\"This Information Does Not Exist In The Dictionary\")\n",
    "print(saved2)"
   ]
  },
  {
   "cell_type": "markdown",
   "metadata": {},
   "source": [
    "## In-Class Exercise #1 - Print a formatted statement from the dictionary below <br>\n",
    "<p>The output should be '2018 Chevrolet Silverado'</p>"
   ]
  },
  {
   "cell_type": "code",
   "execution_count": 6,
   "metadata": {},
   "outputs": [
    {
     "name": "stdout",
     "output_type": "stream",
     "text": [
      "This is a 2018 Chevrolet Silverado 100\n"
     ]
    }
   ],
   "source": [
    "# use the dict below\n",
    "truck = {\n",
    "    'year': 2018,\n",
    "    'make': 'Chevrolet',\n",
    "    'model': 'Silverado'\n",
    "}\n",
    "\n",
    "print(f\"This is a {truck['year']} {truck['make']} {truck['model']} {d3['wallet']['Visa']}\")"
   ]
  },
  {
   "cell_type": "markdown",
   "metadata": {},
   "source": [
    "##### Adding New Pairs"
   ]
  },
  {
   "cell_type": "code",
   "execution_count": 7,
   "metadata": {},
   "outputs": [
    {
     "name": "stdout",
     "output_type": "stream",
     "text": [
      "{'name': 'Shoha', 'age': '9000', 'hobbies': ['sailing', 'biking'], 'wallet': {'Visa': 100, 'Mastercard': -2000}, 0: 'test', 1: 'another one', 'bio': 'Hi, I am Shoha'}\n",
      "{'name': 'Shoha', 'age': '9000', 'hobbies': ['sailing', 'biking'], 'wallet': {'Visa': 100, 'Mastercard': -2000}, 0: 'test', 1: 'another one', 'bio': 'Hi, I am Shoha', 'test': 'NEW'}\n",
      "{'name': 'Shoha', 'age': '9000', 'hobbies': ['sailing', 'biking'], 'wallet': {'Visa': 100, 'Mastercard': -2000}, 0: 'test', 1: 'another one', 'bio': 'Hi, I am Shoha', 'test': 'NEW', 'testing_part_2': 'NEW AGAIN'}\n"
     ]
    }
   ],
   "source": [
    "d3[\"bio\"] = \"Hi, I am Shoha\"\n",
    "print(d3)\n",
    "\n",
    "d3['test'] = 'NEW'\n",
    "print(d3)\n",
    "\n",
    "d3.update({\"testing_part_2\":'NEW AGAIN'})\n",
    "print(d3)"
   ]
  },
  {
   "cell_type": "markdown",
   "metadata": {},
   "source": [
    "##### Modifying Values"
   ]
  },
  {
   "cell_type": "code",
   "execution_count": 21,
   "metadata": {},
   "outputs": [
    {
     "name": "stdout",
     "output_type": "stream",
     "text": [
      "{'name': 'Shoha', 'age': '9000', 'hobbies': ['sailing', 'biking'], 'wallet': {'Visa': 100, 'Mastercard': -2000}, 0: 'test', 1: 'another one', 'test': 'NEW2', 'testing_part_2': 'NEW AGAIN 2', 'empty': ''}\n",
      "{'name': 'Shoha', 'age': '9000', 'hobbies': ['sailing', 'biking'], 'wallet': {'Visa': 100, 'Mastercard': -2000}, 0: 'test', 1: 'another one', 'test': 'NEW2', 'testing_part_2': 'NEW AGAIN 2', 'empty': ''}\n",
      "{'name': 'Shoha', 'age': '9000', 'hobbies': ['sailing', 'biking'], 'wallet': {'Visa': 100, 'Mastercard': -2000}, 0: 'test', 1: 'another one', 'test': 'NEW2', 'testing_part_2': 'NEW AGAIN 2', 'empty': None}\n"
     ]
    }
   ],
   "source": [
    "d3['test'] = \"NEW2\"\n",
    "print(d3)\n",
    "\n",
    "d3.update({'testing_part_2': \"NEW AGAIN 2\"})\n",
    "print (d3)\n",
    "\n",
    "d3['empty'] = None\n",
    "print(d3)"
   ]
  },
  {
   "cell_type": "markdown",
   "metadata": {},
   "source": [
    "##### Removing Key, Value Pairs"
   ]
  },
  {
   "cell_type": "code",
   "execution_count": 16,
   "metadata": {},
   "outputs": [
    {
     "name": "stdout",
     "output_type": "stream",
     "text": [
      "{'name': 'Shoha', 'age': '9000', 'hobbies': ['sailing', 'biking'], 'wallet': {'Visa': 100, 'Mastercard': -2000}, 0: 'test', 1: 'another one', 'bio': 'Hi, I am Shoha', 'test': 'NEW2', 'testing_part_2': 'NEW AGAIN 2'}\n",
      "NEW AGAIN 2\n",
      "{'name': 'Shoha', 'age': '9000', 'hobbies': ['sailing', 'biking'], 'wallet': {'Visa': 100, 'Mastercard': -2000}, 0: 'test', 1: 'another one', 'bio': 'Hi, I am Shoha', 'test': 'NEW2'}\n"
     ]
    }
   ],
   "source": [
    "# Pop an item from the dictionary\n",
    "\n",
    "print(d3)\n",
    "value_removed = d3.pop('testing_part_2')\n",
    "print(value_removed)\n",
    "print(d3)"
   ]
  },
  {
   "cell_type": "code",
   "execution_count": 17,
   "metadata": {},
   "outputs": [
    {
     "name": "stdout",
     "output_type": "stream",
     "text": [
      "{'name': 'Shoha', 'age': '9000', 'hobbies': ['sailing', 'biking'], 'wallet': {'Visa': 100, 'Mastercard': -2000}, 0: 'test', 1: 'another one', 'bio': 'Hi, I am Shoha', 'test': 'NEW2'}\n",
      "{'name': 'Shoha', 'age': '9000', 'hobbies': ['sailing', 'biking'], 'wallet': {'Visa': 100, 'Mastercard': -2000}, 0: 'test', 1: 'another one', 'bio': 'Hi, I am Shoha'}\n"
     ]
    }
   ],
   "source": [
    "# Remove an item in the dictionary\n",
    "\n",
    "print(d3)\n",
    "del d3['test']\n",
    "print(d3)"
   ]
  },
  {
   "cell_type": "code",
   "execution_count": 18,
   "metadata": {},
   "outputs": [
    {
     "name": "stdout",
     "output_type": "stream",
     "text": [
      "{'name': 'Shoha', 'age': '9000', 'hobbies': ['sailing', 'biking'], 'wallet': {'Visa': 100, 'Mastercard': -2000}, 0: 'test', 1: 'another one', 'bio': 'Hi, I am Shoha'}\n",
      "('bio', 'Hi, I am Shoha')\n",
      "{'name': 'Shoha', 'age': '9000', 'hobbies': ['sailing', 'biking'], 'wallet': {'Visa': 100, 'Mastercard': -2000}, 0: 'test', 1: 'another one'}\n"
     ]
    }
   ],
   "source": [
    "# Remove the last item in the dictionary\n",
    "\n",
    "print(d3)\n",
    "value = d3.popitem()\n",
    "print(value)\n",
    "print(d3)"
   ]
  },
  {
   "cell_type": "markdown",
   "metadata": {},
   "source": [
    "##### Looping a Dictionary"
   ]
  },
  {
   "cell_type": "code",
   "execution_count": 29,
   "metadata": {},
   "outputs": [
    {
     "name": "stdout",
     "output_type": "stream",
     "text": [
      "('name', 'Shoha')\n",
      "('age', '9000')\n",
      "('hobbies', ['sailing', 'biking'])\n",
      "('wallet', {'Visa': 100, 'Mastercard': -2000})\n",
      "(0, 'test')\n",
      "(1, 'another one')\n",
      "('test', 'NEW2')\n",
      "('testing_part_2', 'NEW AGAIN 2')\n",
      "('empty', None)\n",
      "empty None\n",
      "name\n",
      "Shoha\n",
      "age\n",
      "9000\n",
      "hobbies\n",
      "['sailing', 'biking']\n",
      "wallet\n",
      "{'Visa': 100, 'Mastercard': -2000}\n",
      "0\n",
      "test\n",
      "1\n",
      "another one\n",
      "test\n",
      "NEW2\n",
      "testing_part_2\n",
      "NEW AGAIN 2\n",
      "empty\n",
      "None\n"
     ]
    }
   ],
   "source": [
    "# .items()\n",
    "# a, b, c = 1, 2, 3\n",
    "# print(a)\n",
    "# print(b)\n",
    "# print(c)\n",
    "\n",
    "d3.items()\n",
    "\n",
    "for pair in d3.items():\n",
    "    print(pair)\n",
    "print(pair[0],pair[1])\n",
    "\n",
    "for key, value in d3.items():\n",
    "    print(key)\n",
    "    print(value)"
   ]
  },
  {
   "cell_type": "markdown",
   "metadata": {},
   "source": [
    "##### Looping Only Keys"
   ]
  },
  {
   "cell_type": "code",
   "execution_count": 31,
   "metadata": {},
   "outputs": [
    {
     "name": "stdout",
     "output_type": "stream",
     "text": [
      "FIRST\n",
      "SECOND\n",
      "name\n",
      "age\n",
      "hobbies\n",
      "wallet\n",
      "0\n",
      "1\n",
      "test\n",
      "testing_part_2\n",
      "empty\n"
     ]
    }
   ],
   "source": [
    "# .keys()\n",
    "\n",
    "my_tuple = (\"FIRST\",\"SECOND\")\n",
    "x , y = my_tuple\n",
    "print(x)\n",
    "print(y)\n",
    "\n",
    "for key in d3:\n",
    "    print(key)"
   ]
  },
  {
   "cell_type": "markdown",
   "metadata": {},
   "source": [
    "##### Looping Only Values"
   ]
  },
  {
   "cell_type": "code",
   "execution_count": 32,
   "metadata": {},
   "outputs": [
    {
     "name": "stdout",
     "output_type": "stream",
     "text": [
      "Shoha\n",
      "9000\n",
      "['sailing', 'biking']\n",
      "{'Visa': 100, 'Mastercard': -2000}\n",
      "test\n",
      "another one\n",
      "NEW2\n",
      "NEW AGAIN 2\n",
      "None\n"
     ]
    }
   ],
   "source": [
    "# .values()\n",
    "for val in d3.values():\n",
    "    print(val)\n"
   ]
  },
  {
   "cell_type": "markdown",
   "metadata": {},
   "source": [
    "## In-Class Exercise #2 - Create a Function that Prints All Key Value Pairs within a print .format() <br>\n",
    "<p><b>Output should be:</b><br>\n",
    "Max has blue eyes<br>\n",
    "Lilly has brown eyes<br>\n",
    "Barney has blue eyes<br>\n",
    "etc.\n",
    "</p>"
   ]
  },
  {
   "cell_type": "code",
   "execution_count": 36,
   "metadata": {},
   "outputs": [
    {
     "name": "stdout",
     "output_type": "stream",
     "text": [
      "Max has blue eyes\n",
      "Lilly has brown eyes\n",
      "Barney has blue eyes\n",
      "Larney has brown eyes\n",
      "Ted has purple eyes\n"
     ]
    }
   ],
   "source": [
    "# use the dict below\n",
    "\n",
    "people = {\n",
    "    'Max': 'blue',\n",
    "    'Lilly': 'brown',\n",
    "    'Barney': 'blue',\n",
    "    'Larney': 'brown',\n",
    "    'Ted': 'purple'\n",
    "}\n",
    "\n",
    "for name,eye_color in people.items():\n",
    "    print(f'{name} has {eye_color} eyes')"
   ]
  },
  {
   "cell_type": "markdown",
   "metadata": {},
   "source": [
    "##### sorted()"
   ]
  },
  {
   "cell_type": "code",
   "execution_count": 41,
   "metadata": {},
   "outputs": [
    {
     "name": "stdout",
     "output_type": "stream",
     "text": [
      "<class 'dict_items'>\n",
      "[('Barney', 'blue'), ('Larney', 'brown'), ('Lilly', 'brown'), ('Max', 'blue'), ('Ted', 'purple')]\n",
      "['Barney', 'Larney', 'Lilly', 'Max', 'Ted']\n",
      "['blue', 'blue', 'brown', 'brown', 'purple']\n"
     ]
    }
   ],
   "source": [
    "# sorts variables in order\n",
    "# sorted(dict.values()) or dict.keys() or dict.items()\n",
    "\n",
    "print(type(people.items()))\n",
    "print(sorted(people.items()))\n",
    "\n",
    "print(sorted(people.keys()))\n",
    "print(sorted(people.values()))"
   ]
  },
  {
   "cell_type": "markdown",
   "metadata": {},
   "source": [
    "##### List with Dictionaries"
   ]
  },
  {
   "cell_type": "code",
   "execution_count": 46,
   "metadata": {},
   "outputs": [
    {
     "name": "stdout",
     "output_type": "stream",
     "text": [
      "knitting\n",
      "k\n"
     ]
    }
   ],
   "source": [
    "names = [\n",
    "    {\n",
    "        'name': \"Shoha\",\n",
    "        'age': 9000,\n",
    "        'hobbies': [\"sailing\",\"biking\"]\n",
    "    },\n",
    "    {\n",
    "        'name': \"Sarah\",\n",
    "        'age': 9001,\n",
    "        'hobbies': [\"mountain biking\",\"rock climbing\"]\n",
    "    },\n",
    "    {\n",
    "        'name': \"Rachel\",\n",
    "        'age': 8999,\n",
    "        'hobbies': [\"knitting\",\"photography\",\"coding\"]\n",
    "    }\n",
    "]\n",
    "\n",
    "print(names[2]['hobbies'][0])\n",
    "print(names[2]['hobbies'][0][0])"
   ]
  },
  {
   "cell_type": "markdown",
   "metadata": {},
   "source": [
    "##### Dictionaries with Lists"
   ]
  },
  {
   "cell_type": "code",
   "execution_count": null,
   "metadata": {},
   "outputs": [],
   "source": [
    "# be careful when using numbers as keys in dictionaries, don't confuse them with indexes\n",
    "#see above (d3) hobbies"
   ]
  },
  {
   "cell_type": "markdown",
   "metadata": {},
   "source": [
    "##### Dictionaries with Dictionaries"
   ]
  },
  {
   "cell_type": "code",
   "execution_count": 49,
   "metadata": {},
   "outputs": [
    {
     "name": "stdout",
     "output_type": "stream",
     "text": [
      "100\n"
     ]
    }
   ],
   "source": [
    "# to get values, must traverse through keys\n",
    "\n",
    "print(d3['wallet']['Visa'])"
   ]
  },
  {
   "cell_type": "markdown",
   "metadata": {},
   "source": [
    "## Dictionaries vs. Lists (over time) Example of RUNTIME\n",
    "### When inputting values in a Dictionary vs List"
   ]
  },
  {
   "cell_type": "code",
   "execution_count": 50,
   "metadata": {},
   "outputs": [],
   "source": [
    "import time\n",
    "\n",
    "\n",
    "# generate fake dictionary\n",
    "d = {}\n",
    "\n",
    "for i in range(10000000):\n",
    "    d[i] = 'value'\n",
    "    \n",
    "\n",
    "# generate fake list\n",
    "big_list = [x for x in range(10000000)]"
   ]
  },
  {
   "cell_type": "code",
   "execution_count": 55,
   "metadata": {},
   "outputs": [
    {
     "name": "stdout",
     "output_type": "stream",
     "text": [
      "Elapsed time for dictionary: 0.0\n",
      "Elapsed time for list: 0.08675551414489746\n"
     ]
    }
   ],
   "source": [
    "# tracking time for dictionary\n",
    "start_time = time.time()\n",
    "\n",
    "9999999 in d\n",
    "\n",
    "end_time = time.time() - start_time\n",
    "\n",
    "print('Elapsed time for dictionary: {}'.format(end_time))\n",
    "\n",
    "\n",
    "# tracking time for list\n",
    "start_time = time.time()\n",
    "\n",
    "9999999 in big_list\n",
    "\n",
    "end_time = time.time() - start_time\n",
    "\n",
    "print('Elapsed time for list: {}'.format(end_time))"
   ]
  },
  {
   "cell_type": "markdown",
   "metadata": {},
   "source": [
    "## Exercise #3 - Write a Function that asks someone's name and address, and then stores that into a dictionary, and continues to do so until they choose to 'quit'. Once they quit, the program should print all names and addresses. <br>\n",
    "<p>\n",
    "<b>Proper steps:</b><br>\n",
    "step 1: write a function that takes in information and stores it in a dictionary<br>\n",
    "step 2: define an empty dictionary to work with<br>\n",
    "step 3: create our loop, which asks the user for information until they quit<br>\n",
    "step 4: ask for the information, and store it into variables<br>\n",
    "step 5: check if the user types quit<br>\n",
    "step 5a: print out all information<br>\n",
    "step 5b: break out of the loop<br>\n",
    "step 6: if they didn't quit, add the information to the dictionary<br>\n",
    "step 7: invoke the function by calling it\n",
    "</p>"
   ]
  },
  {
   "cell_type": "code",
   "execution_count": 58,
   "metadata": {},
   "outputs": [
    {
     "name": "stdout",
     "output_type": "stream",
     "text": [
      "Thank you for using the dictionary generator. Here is the dictionary you have created:\n",
      "{'Renat': 'Lake Villa', 'Roman': 'Vernon Hills', 'Murad': 'Chicago', 'Rakhman': 'Volo'}\n"
     ]
    },
    {
     "data": {
      "text/plain": [
       "{'Renat': 'Lake Villa',\n",
       " 'Roman': 'Vernon Hills',\n",
       " 'Murad': 'Chicago',\n",
       " 'Rakhman': 'Volo'}"
      ]
     },
     "execution_count": 58,
     "metadata": {},
     "output_type": "execute_result"
    }
   ],
   "source": [
    "from IPython.display import clear_output\n",
    "\n",
    "def names_and_addresses():\n",
    "\n",
    "    dictionary = {}\n",
    "    print(\"Welcome to the name and address dictionary generator! Let's begin...\")\n",
    "\n",
    "    while True:\n",
    "        answer = input(\"What would you like to do? Add/Quit\").lower()\n",
    "        \n",
    "        if answer == \"add\":\n",
    "            name = input(\"What is your name?\")\n",
    "            address = input(\"What is your address?\")\n",
    "            dictionary[name] = address\n",
    "            print(f\"Thank you for providing the name: {name} and address: {address}. It has been recorded.\")\n",
    "        \n",
    "        elif answer == \"quit\":\n",
    "            break\n",
    "        \n",
    "        else:\n",
    "            print(\"Invalid entry. Please indicate whether you'd like to add a new entry or quit the program (Add/Quit).\")\n",
    "    \n",
    "    clear_output()\n",
    "    \n",
    "    print(\"Thank you for using the dictionary generator. Here is the dictionary you have created:\")\n",
    "    print(dictionary)\n",
    "    return(dictionary)\n",
    "\n",
    "names_and_addresses()"
   ]
  },
  {
   "cell_type": "code",
   "execution_count": 65,
   "metadata": {},
   "outputs": [
    {
     "name": "stdout",
     "output_type": "stream",
     "text": [
      "Thank you for using the dictionary generator. Here is the dictionary you have created:\n",
      "{'Shoha': '123 Fake St', 'Sarah': '321 Real St', 'Rachel': '1000 Coding Temple Dr'}\n"
     ]
    },
    {
     "data": {
      "text/plain": [
       "{'Shoha': '123 Fake St',\n",
       " 'Sarah': '321 Real St',\n",
       " 'Rachel': '1000 Coding Temple Dr'}"
      ]
     },
     "execution_count": 65,
     "metadata": {},
     "output_type": "execute_result"
    }
   ],
   "source": [
    "from IPython.display import clear_output\n",
    "\n",
    "def names_and_addresses():\n",
    "\n",
    "    dictionary = {}\n",
    "    print(\"Welcome to the name and address dictionary generator! Let's begin...\")\n",
    "\n",
    "    while True:\n",
    "        answer = input(\"What would you like to do? Add/Quit: \").lower()\n",
    "\n",
    "                \n",
    "        if answer == \"quit\" or answer == \"q\":\n",
    "            break\n",
    "        \n",
    "        elif answer == \"add\" or answer == \"a\":\n",
    "            name = input(\"What is your name?: \")\n",
    "            address = input(\"What is your address?: \")\n",
    "            dictionary[name] = address\n",
    "            print(f\"Thank you for providing the name: '{name}' and address: '{address}'. This entry has been recorded.\")\n",
    "        \n",
    "        else:\n",
    "            print(\"Invalid entry. Please indicate whether you'd like to add a new entry or quit the program (Add/Quit).\")\n",
    "    \n",
    "    clear_output()\n",
    "    \n",
    "    print(\"Thank you for using the dictionary generator. Here is the dictionary you have created:\")\n",
    "    print(dictionary)\n",
    "    return(dictionary)\n",
    "\n",
    "names_and_addresses()"
   ]
  },
  {
   "cell_type": "markdown",
   "metadata": {},
   "source": [
    "## Set <br>\n",
    "<p>A Set is an unordered collection data type that is iterable (loop), mutable, and has no duplicate elements.<br>Major advantage is that it is highly optimized in checking if something is in the set, as opposed to checking if something is in a list.</p>"
   ]
  },
  {
   "cell_type": "markdown",
   "metadata": {},
   "source": [
    "##### Declaring"
   ]
  },
  {
   "cell_type": "code",
   "execution_count": 68,
   "metadata": {},
   "outputs": [
    {
     "name": "stdout",
     "output_type": "stream",
     "text": [
      "{4, 5, 6, 7}\n",
      "<class 'set'>\n",
      "set()\n",
      "<class 'set'>\n"
     ]
    }
   ],
   "source": [
    "# set() or {}\n",
    "# no order {3, 2, 1} outputs as {1, 2, 3}\n",
    "\n",
    "nums = {4,5,6,7,4}\n",
    "print(nums)\n",
    "print(type(nums))\n",
    "\n",
    "empty = set()\n",
    "print(empty)\n",
    "print(type(empty))"
   ]
  },
  {
   "cell_type": "markdown",
   "metadata": {},
   "source": [
    "##### .add()"
   ]
  },
  {
   "cell_type": "code",
   "execution_count": 71,
   "metadata": {},
   "outputs": [
    {
     "name": "stdout",
     "output_type": "stream",
     "text": [
      "{56, 60}\n",
      "set()\n"
     ]
    },
    {
     "ename": "KeyError",
     "evalue": "56",
     "output_type": "error",
     "traceback": [
      "\u001b[1;31m---------------------------------------------------------------------------\u001b[0m",
      "\u001b[1;31mKeyError\u001b[0m                                  Traceback (most recent call last)",
      "Cell \u001b[1;32mIn[71], line 12\u001b[0m\n\u001b[0;32m      9\u001b[0m empty\u001b[38;5;241m.\u001b[39mremove(\u001b[38;5;241m60\u001b[39m)\n\u001b[0;32m     10\u001b[0m \u001b[38;5;28mprint\u001b[39m(empty)\n\u001b[1;32m---> 12\u001b[0m \u001b[43mempty\u001b[49m\u001b[38;5;241;43m.\u001b[39;49m\u001b[43mremove\u001b[49m\u001b[43m(\u001b[49m\u001b[38;5;241;43m56\u001b[39;49m\u001b[43m)\u001b[49m\n",
      "\u001b[1;31mKeyError\u001b[0m: 56"
     ]
    }
   ],
   "source": [
    "# set.add()\n",
    "\n",
    "empty.add(56)\n",
    "empty.add(56)\n",
    "empty.add(60)\n",
    "print(empty)"
   ]
  },
  {
   "cell_type": "markdown",
   "metadata": {},
   "source": [
    "##### .remove()"
   ]
  },
  {
   "cell_type": "code",
   "execution_count": null,
   "metadata": {},
   "outputs": [],
   "source": [
    "# removes by value\n",
    "# set.remove()\n",
    "# nums.remove(56)\n",
    "\n",
    "\n",
    "empty.remove(56)\n",
    "empty.remove(60)\n",
    "print(empty)\n",
    "\n",
    "empty.remove(56)"
   ]
  },
  {
   "cell_type": "markdown",
   "metadata": {},
   "source": [
    "##### .union() "
   ]
  },
  {
   "cell_type": "code",
   "execution_count": 77,
   "metadata": {},
   "outputs": [
    {
     "ename": "TypeError",
     "evalue": "'set' object is not subscriptable",
     "output_type": "error",
     "traceback": [
      "\u001b[1;31m---------------------------------------------------------------------------\u001b[0m",
      "\u001b[1;31mTypeError\u001b[0m                                 Traceback (most recent call last)",
      "Cell \u001b[1;32mIn[77], line 6\u001b[0m\n\u001b[0;32m      4\u001b[0m s1 \u001b[38;5;241m=\u001b[39m {\u001b[38;5;241m1\u001b[39m,\u001b[38;5;241m2\u001b[39m,\u001b[38;5;241m3\u001b[39m,\u001b[38;5;241m4\u001b[39m}\n\u001b[0;32m      5\u001b[0m s2 \u001b[38;5;241m=\u001b[39m {\u001b[38;5;241m3\u001b[39m,\u001b[38;5;241m4\u001b[39m,\u001b[38;5;241m5\u001b[39m,\u001b[38;5;241m6\u001b[39m}\n\u001b[1;32m----> 6\u001b[0m \u001b[38;5;28mprint\u001b[39m(\u001b[43ms1\u001b[49m\u001b[43m[\u001b[49m\u001b[38;5;241;43m1\u001b[39;49m\u001b[43m]\u001b[49m)\n\u001b[0;32m      8\u001b[0m s3 \u001b[38;5;241m=\u001b[39m s2\u001b[38;5;241m.\u001b[39munion(s1)\n\u001b[0;32m      9\u001b[0m \u001b[38;5;28mprint\u001b[39m(s3)\n",
      "\u001b[1;31mTypeError\u001b[0m: 'set' object is not subscriptable"
     ]
    }
   ],
   "source": [
    "# Returns a union of two sets, can also use '|' or set.union(set)\n",
    "# joins all numbers, gets rid of duplicates\n",
    "\n",
    "s1 = {1,2,3,4}\n",
    "s2 = {3,4,5,6}\n",
    "\n",
    "s3 = s2.union(s1)\n",
    "print(s3)\n",
    "\n",
    "# OR\n",
    "s4 = s1|s2\n",
    "print(s4)"
   ]
  },
  {
   "cell_type": "markdown",
   "metadata": {},
   "source": [
    "##### .intersection()"
   ]
  },
  {
   "cell_type": "code",
   "execution_count": 75,
   "metadata": {},
   "outputs": [
    {
     "name": "stdout",
     "output_type": "stream",
     "text": [
      "{3, 4}\n",
      "{3, 4}\n"
     ]
    }
   ],
   "source": [
    "# Returns an intersection of two sets, can also use '&'\n",
    "# only takes similar elements from both sets\n",
    "\n",
    "s5 = s1.intersection(s2)\n",
    "print(s5)\n",
    "\n",
    "# OR\n",
    "s6 = s1&s2\n",
    "print(s6)"
   ]
  },
  {
   "cell_type": "markdown",
   "metadata": {},
   "source": [
    "##### .difference()"
   ]
  },
  {
   "cell_type": "code",
   "execution_count": 76,
   "metadata": {},
   "outputs": [
    {
     "name": "stdout",
     "output_type": "stream",
     "text": [
      "{1, 2}\n",
      "{5, 6}\n"
     ]
    }
   ],
   "source": [
    "# Returns a set containing all the elements of invoking set that are not in the second set, can also use '-'\n",
    "# only takes values from the first set that are not in the second set\n",
    "# order matters\n",
    "\n",
    "s7 = s1 - s2\n",
    "s8 = s2.difference(s1)\n",
    "print(s7)\n",
    "print(s8)"
   ]
  },
  {
   "cell_type": "markdown",
   "metadata": {},
   "source": [
    "##### .clear()"
   ]
  },
  {
   "cell_type": "code",
   "execution_count": 78,
   "metadata": {},
   "outputs": [
    {
     "name": "stdout",
     "output_type": "stream",
     "text": [
      "set()\n"
     ]
    }
   ],
   "source": [
    "# Empties the whole set\n",
    "# set.clear()\n",
    "\n",
    "s8.clear()\n",
    "print(s8)"
   ]
  },
  {
   "cell_type": "markdown",
   "metadata": {},
   "source": [
    "##### Frozenset <br>\n",
    "<p>Frozen sets are immutable objects that only support methods and operators that produce a result without affecting the frozen set or sets to which they are applied.</p><br><b>Unique & Immutable</b>"
   ]
  },
  {
   "cell_type": "code",
   "execution_count": 80,
   "metadata": {},
   "outputs": [
    {
     "name": "stdout",
     "output_type": "stream",
     "text": [
      "frozenset({1, 2, 3})\n",
      "<class 'frozenset'>\n"
     ]
    }
   ],
   "source": [
    "# frozenset([])\n",
    "\n",
    "res = frozenset([1,2,3,3])\n",
    "print(res)\n",
    "print(type(res))"
   ]
  },
  {
   "cell_type": "markdown",
   "metadata": {},
   "source": [
    "## Modules"
   ]
  },
  {
   "cell_type": "markdown",
   "metadata": {},
   "source": [
    "##### Importing Entire Modules"
   ]
  },
  {
   "cell_type": "code",
   "execution_count": 85,
   "metadata": {},
   "outputs": [
    {
     "name": "stdout",
     "output_type": "stream",
     "text": [
      "test\n",
      "HI WORLD\n",
      "6\n"
     ]
    }
   ],
   "source": [
    "# import or from 'xxx' import *\n",
    "# import math\n",
    "\n",
    "import module\n",
    "\n",
    "print(module.test_func())\n",
    "print(module.external_variable)\n",
    "\n",
    "\n",
    "\n",
    "import math\n",
    "print(math.ceil(5.5))"
   ]
  },
  {
   "cell_type": "markdown",
   "metadata": {},
   "source": [
    "##### Importing Methods Only"
   ]
  },
  {
   "cell_type": "code",
   "execution_count": 89,
   "metadata": {},
   "outputs": [
    {
     "name": "stdout",
     "output_type": "stream",
     "text": [
      "3.141592653589793\n"
     ]
    },
    {
     "data": {
      "text/plain": [
       "6"
      ]
     },
     "execution_count": 89,
     "metadata": {},
     "output_type": "execute_result"
    }
   ],
   "source": [
    "# from 'xxx' import 'xxx'\n",
    "# from math import floor\n",
    "\n",
    "from math import pi, ceil\n",
    "print(pi)\n",
    "ceil(5.5)"
   ]
  },
  {
   "cell_type": "markdown",
   "metadata": {},
   "source": [
    "##### Using the 'as' Keyword"
   ]
  },
  {
   "cell_type": "code",
   "execution_count": 92,
   "metadata": {},
   "outputs": [
    {
     "name": "stdout",
     "output_type": "stream",
     "text": [
      "HI WORLD\n",
      "HI WORLD\n"
     ]
    }
   ],
   "source": [
    "# from 'xxx' import 'xxx' as 'xxx' or import 'xxx' as 'xxx'\n",
    "# from math import floor as f\n",
    "\n",
    "from module import external_variable as var\n",
    "from module import external_variable as ev\n",
    "\n",
    "print(var)\n",
    "print(ev)"
   ]
  },
  {
   "cell_type": "markdown",
   "metadata": {},
   "source": [
    "##### Creating a Module"
   ]
  },
  {
   "cell_type": "code",
   "execution_count": null,
   "metadata": {},
   "outputs": [],
   "source": [
    "# see above at module.py"
   ]
  },
  {
   "cell_type": "markdown",
   "metadata": {},
   "source": [
    "# Exercises"
   ]
  },
  {
   "cell_type": "markdown",
   "metadata": {},
   "source": [
    "### 1) Build a Shopping Cart <br>\n",
    "<p><b>You can use either lists or dictionaries. The program should have the following capabilities:</b><br><br>\n",
    "1) Takes in input <br>\n",
    "2) Stores user input into a dictionary or list <br>\n",
    "3) The User can add or delete items <br>\n",
    "4) The User can see current shopping list <br>\n",
    "5) The program Loops until user 'quits' <br>\n",
    "6) Upon quiting the program, print out all items in the user's list <br>\n",
    "</p>"
   ]
  },
  {
   "cell_type": "code",
   "execution_count": 110,
   "metadata": {},
   "outputs": [
    {
     "name": "stdout",
     "output_type": "stream",
     "text": [
      "Thank you for shopping at Grocery Mart. Here are the contents of your shopping cart:\n",
      "{'apple': 13, 'bananas': 10}\n"
     ]
    },
    {
     "data": {
      "text/plain": [
       "{'apple': 13, 'bananas': 10}"
      ]
     },
     "execution_count": 110,
     "metadata": {},
     "output_type": "execute_result"
    }
   ],
   "source": [
    "from IPython.display import clear_output\n",
    "\n",
    "# Ask the user four bits of input: Do you want to : Show/Add/Delete or Quit?\n",
    "\n",
    "def shopping_cart():\n",
    "    \n",
    "    # Introduction\n",
    "    \n",
    "    print(\"Welcome to Grocery Mart! Thank you for grabbing a shopping cart.\")\n",
    "    \n",
    "    my_shopping_cart = {}\n",
    "    outer_break_status = True\n",
    "    \n",
    "    while outer_break_status:\n",
    "        \n",
    "        ans = input(\"What would you like to do with your cart? (Show/Add/Delete/Quit): \").lower()\n",
    "        \n",
    "        # Show items in shopping cart\n",
    "        \n",
    "        if ans == \"show\" or ans == \"s\":\n",
    "            print(f\"The contents of your shopping cart are as follows: \\n{my_shopping_cart}\")\n",
    "        \n",
    "        # Add item to shopping Cart\n",
    "        \n",
    "        elif ans == \"add\" or ans == \"a\":\n",
    "            grocery_added = input(\"What item would you like to add to your cart?: \").lower()\n",
    "            \n",
    "            # Add item if non-zero quantity of the item is already in shopping cart\n",
    "            \n",
    "            if grocery_added in my_shopping_cart:\n",
    "                grocery_added_qty = input(f\"You already have a quantity of {my_shopping_cart[grocery_added]} of the item '{grocery_added}' in your shopping cart. How many more would you like to add?: \")\n",
    "                while True:\n",
    "                    try:\n",
    "                        grocery_added_qty = int(grocery_added_qty)\n",
    "\n",
    "                    except:\n",
    "                        grocery_added_qty = input(\"The quantity you entered does not appear to be a number. Please enter a number: \")\n",
    "                \n",
    "                my_shopping_cart[grocery_added] += grocery_added_qty\n",
    "            \n",
    "            \n",
    "            # Add item if item is not in shopping cart\n",
    "            \n",
    "            else:\n",
    "                grocery_added_qty = input(f\"What quantity of the item '{grocery_added}' would you like to add to your shopping cart?: \")\n",
    "                \n",
    "                # Error handling for quantity to be added to shopping cart\n",
    "                \n",
    "                while True:\n",
    "                    try:\n",
    "                        grocery_added_qty = int(grocery_added_qty)\n",
    "                        break\n",
    "                    except:\n",
    "                        grocery_added_qty = input(\"The quantity you entered does not appear to be a number. Please enter a number: \")\n",
    "                \n",
    "                my_shopping_cart[grocery_added] = grocery_added_qty\n",
    "            \n",
    "            print(f\"Thank you for adding {grocery_added_qty} units of the item '{grocery_added}' to your shopping cart.\")\n",
    "        \n",
    "        # Remove item from shopping cart\n",
    "        \n",
    "        elif ans == \"delete\" or ans == \"del\" or ans == \"d\":\n",
    "            grocery_removed = input(\"What item would you like to remove from your shopping cart?: \").lower()\n",
    "            \n",
    "            while True:\n",
    "                \n",
    "                # Remove item if item already in shopping cart\n",
    "                \n",
    "                if grocery_removed in my_shopping_cart:\n",
    "                    grocery_removed_qty = input(f\"How many of the item {grocery_removed} would you like to remove from your shopping cart?: \")\n",
    "                \n",
    "                # Error handling for quantity to be removed from shopping cart\n",
    "                \n",
    "                    while True:\n",
    "                        try:\n",
    "                            grocery_removed_qty = int(grocery_removed_qty)\n",
    "                            break\n",
    "                        except:\n",
    "                            grocery_removed_qty = input(\"The quantity you entered does not appear to be a number. Please enter a number: \")\n",
    "\n",
    "                    # Error handling if requested removal quantity exceeds quantity currently in shopping cart\n",
    "\n",
    "                    if grocery_removed_qty > my_shopping_cart[grocery_removed]:\n",
    "                        print(f\"The quantity of the item '{grocery_removed}' that you want to remove exceeds the current quantity of the item in your shopping cart. Please enter a number less than or equal to {my_shopping_cart[grocery_removed]}\")\n",
    "\n",
    "                    elif grocery_removed_qty == my_shopping_cart[grocery_removed]:\n",
    "                        del my_shopping_cart[grocery_removed]\n",
    "                        print(f\"You have successfully removed {grocery_removed_qty} of the item '{grocery_removed}' from your shopping cart. \\nThe quantity of the item '{grocery_removed}' in your shopping cart is 0. \\nThe updated contents of your shopping cart are: \\n{my_shopping_cart}\")\n",
    "\n",
    "                    else:\n",
    "                        my_shopping_cart[grocery_removed] -= grocery_removed_qty\n",
    "                        print(f\"You have successfully removed {grocery_removed_qty} of the item '{grocery_removed}' from your shopping cart. \\nThe updated quantity of the item '{grocery_removed}' in your shopping cart is {my_shopping_cart[grocery_removed]}. \\nThe updated contents of your shopping cart are: \\n{my_shopping_cart}\")\n",
    "\n",
    "                        break\n",
    "                \n",
    "                # Error handling if item requested to be removed is not in shopping cart\n",
    "                \n",
    "                else:\n",
    "                    grocery_removed = input(f\"The item '{grocery_removed}' does not appear in your shopping cart. \\nHere is what you currently have in your shopping cart: \\n{my_shopping_cart} \\nWhat item would you like to remove from your cart?: \").lower()\n",
    "        \n",
    "        # Quit\n",
    "        \n",
    "        elif ans == \"quit\" or ans == \"q\":\n",
    "            \n",
    "            while True:\n",
    "                \n",
    "                # Confirm user wants to quit\n",
    "                \n",
    "                quit_sure = input(\"Are you sure you want to leave? (Yes/No): \").lower()\n",
    "\n",
    "                if quit_sure == \"no\" or quit_sure == \"n\":\n",
    "                    break\n",
    "                elif quit_sure == \"yes\" or quit_sure == \"y\":\n",
    "                    outer_break_status = False\n",
    "                    break\n",
    "                \n",
    "                # Check for response validity\n",
    "                \n",
    "                else:\n",
    "                    print(\"That does not seem to be a valid response.\")\n",
    "        \n",
    "        # Check for response validity\n",
    "        \n",
    "        else:\n",
    "            print(\"That does not seem to be a valid response.\")\n",
    "\n",
    "    clear_output()\n",
    "    \n",
    "    print(\"Thank you for shopping at Grocery Mart. Here are the contents of your shopping cart:\")\n",
    "    print(my_shopping_cart)\n",
    "    return(my_shopping_cart)\n",
    "\n",
    "shopping_cart()"
   ]
  },
  {
   "cell_type": "markdown",
   "metadata": {},
   "source": [
    "### 2) Create a Module in VS Code and Import It into jupyter notebook <br>\n",
    "<p><b>Module should have the following capabilities:</b><br><br>\n",
    "1) Has a function to calculate the square footage of a house <br>\n",
    "    <b>Reminder of Formula: Length X Width == Area<br>\n",
    "        <hr>\n",
    "2) Has a function to calculate the circumference of a circle <br><br>\n",
    "<b>Program in Jupyter Notebook should take in user input and use imported functions to calculate a circle's circumference or a houses square footage</b>\n",
    "</p>"
   ]
  },
  {
   "cell_type": "code",
   "execution_count": 116,
   "metadata": {},
   "outputs": [
    {
     "name": "stdout",
     "output_type": "stream",
     "text": [
      "What units will you be using for your measurements? (meter/foot): meter\n",
      "What is the length of the house?: 10\n",
      "What is the width of the house?: 20\n",
      "How many levels/floors does the house have: 2.5\n",
      "The total square meter-age of the house is 500.0 meter^2\n",
      "What units will you be using for your measurement? (meters/feet): feet\n",
      "What is the radius of the circle?: 30\n",
      "The circumference of the circle is 188.49555921538757 feet\n"
     ]
    }
   ],
   "source": [
    "import hw_module\n",
    "\n",
    "area_units = input(\"What units will you be using for your measurements? (meter/foot): \")\n",
    "length = float(input(\"What is the length of the house?: \"))\n",
    "width = float(input(\"What is the width of the house?: \"))\n",
    "levels = float(input(\"How many levels/floors does the house have: \"))\n",
    "\n",
    "hw_module.area(length,width,levels,area_units)\n",
    "\n",
    "\n",
    "\n",
    "circ_units = input(\"What units will you be using for your measurement? (meters/feet): \")\n",
    "radius = float(input(\"What is the radius of the circle?: \"))\n",
    "\n",
    "hw_module.circ(radius,circ_units)"
   ]
  }
 ],
 "metadata": {
  "kernelspec": {
   "display_name": "Python 3 (ipykernel)",
   "language": "python",
   "name": "python3"
  },
  "language_info": {
   "codemirror_mode": {
    "name": "ipython",
    "version": 3
   },
   "file_extension": ".py",
   "mimetype": "text/x-python",
   "name": "python",
   "nbconvert_exporter": "python",
   "pygments_lexer": "ipython3",
   "version": "3.10.9"
  }
 },
 "nbformat": 4,
 "nbformat_minor": 2
}
